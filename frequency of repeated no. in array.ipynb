{
 "cells": [
  {
   "cell_type": "code",
   "execution_count": 3,
   "metadata": {},
   "outputs": [
    {
     "name": "stdout",
     "output_type": "stream",
     "text": [
      "enter no of elements : 9\n",
      "1\n",
      "3\n",
      "4\n",
      "2\n",
      "5\n",
      "4\n",
      "2\n",
      "3\n",
      "4\n",
      "elements\tfrequency\n",
      "\n",
      " 1 \t  :\t 1\n",
      "\n",
      " 3 \t  :\t 2\n",
      "\n",
      " 4 \t  :\t 3\n",
      "\n",
      " 2 \t  :\t 2\n",
      "\n",
      " 5 \t  :\t 1\n"
     ]
    }
   ],
   "source": [
    "array=[]\n",
    "new_array=[]\n",
    "n=int(input(\"enter no of elements : \"))\n",
    "for i in range(n):\n",
    "    array.append(int(input()))\n",
    "    if array[i] not in new_array:\n",
    "        new_array.append(array[i])\n",
    "print(\"elements\\tfrequency\")\n",
    "for i in new_array:\n",
    "    print(\"\\n\",i,\"\\t  :\\t\",array.count(i))"
   ]
  },
  {
   "cell_type": "code",
   "execution_count": null,
   "metadata": {},
   "outputs": [],
   "source": []
  }
 ],
 "metadata": {
  "kernelspec": {
   "display_name": "Python 3",
   "language": "python",
   "name": "python3"
  },
  "language_info": {
   "codemirror_mode": {
    "name": "ipython",
    "version": 3
   },
   "file_extension": ".py",
   "mimetype": "text/x-python",
   "name": "python",
   "nbconvert_exporter": "python",
   "pygments_lexer": "ipython3",
   "version": "3.8.3"
  }
 },
 "nbformat": 4,
 "nbformat_minor": 4
}
